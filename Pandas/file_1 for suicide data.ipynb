{
 "cells": [
  {
   "cell_type": "code",
   "execution_count": 1,
   "id": "078d67be",
   "metadata": {},
   "outputs": [
    {
     "name": "stderr",
     "output_type": "stream",
     "text": [
      "C:\\ProgramData\\Anaconda3\\lib\\site-packages\\fuzzywuzzy\\fuzz.py:11: UserWarning: Using slow pure-python SequenceMatcher. Install python-Levenshtein to remove this warning\n",
      "  warnings.warn('Using slow pure-python SequenceMatcher. Install python-Levenshtein to remove this warning')\n"
     ]
    },
    {
     "data": {
      "text/html": [
       "<div>\n",
       "<style scoped>\n",
       "    .dataframe tbody tr th:only-of-type {\n",
       "        vertical-align: middle;\n",
       "    }\n",
       "\n",
       "    .dataframe tbody tr th {\n",
       "        vertical-align: top;\n",
       "    }\n",
       "\n",
       "    .dataframe thead th {\n",
       "        text-align: right;\n",
       "    }\n",
       "</style>\n",
       "<table border=\"1\" class=\"dataframe\">\n",
       "  <thead>\n",
       "    <tr style=\"text-align: right;\">\n",
       "      <th></th>\n",
       "      <th>S#</th>\n",
       "      <th>Date</th>\n",
       "      <th>Islamic Date</th>\n",
       "      <th>Blast Day Type</th>\n",
       "      <th>Holiday Type</th>\n",
       "      <th>Time</th>\n",
       "      <th>City</th>\n",
       "      <th>Latitude</th>\n",
       "      <th>Longitude</th>\n",
       "      <th>Province</th>\n",
       "      <th>...</th>\n",
       "      <th>Targeted Sect if any</th>\n",
       "      <th>Killed Min</th>\n",
       "      <th>Killed Max</th>\n",
       "      <th>Injured Min</th>\n",
       "      <th>Injured Max</th>\n",
       "      <th>No. of Suicide Blasts</th>\n",
       "      <th>Explosive Weight (max)</th>\n",
       "      <th>Hospital Names</th>\n",
       "      <th>Temperature(C)</th>\n",
       "      <th>Temperature(F)</th>\n",
       "    </tr>\n",
       "  </thead>\n",
       "  <tbody>\n",
       "    <tr>\n",
       "      <th>0</th>\n",
       "      <td>1</td>\n",
       "      <td>Sunday-November 19-1995</td>\n",
       "      <td>25 Jumaada al-THaany 1416 A.H</td>\n",
       "      <td>Holiday</td>\n",
       "      <td>Weekend</td>\n",
       "      <td>NaN</td>\n",
       "      <td>Islamabad</td>\n",
       "      <td>33.718000</td>\n",
       "      <td>73.0718</td>\n",
       "      <td>Capital</td>\n",
       "      <td>...</td>\n",
       "      <td>None</td>\n",
       "      <td>14.0</td>\n",
       "      <td>15.0</td>\n",
       "      <td>NaN</td>\n",
       "      <td>60</td>\n",
       "      <td>2.0</td>\n",
       "      <td>NaN</td>\n",
       "      <td>NaN</td>\n",
       "      <td>15.835</td>\n",
       "      <td>60.503</td>\n",
       "    </tr>\n",
       "    <tr>\n",
       "      <th>1</th>\n",
       "      <td>2</td>\n",
       "      <td>Monday-November 6-2000</td>\n",
       "      <td>10 SHa`baan 1421 A.H</td>\n",
       "      <td>Working Day</td>\n",
       "      <td>NaN</td>\n",
       "      <td>NaN</td>\n",
       "      <td>Karachi</td>\n",
       "      <td>24.991800</td>\n",
       "      <td>66.9911</td>\n",
       "      <td>Sindh</td>\n",
       "      <td>...</td>\n",
       "      <td>None</td>\n",
       "      <td>NaN</td>\n",
       "      <td>3.0</td>\n",
       "      <td>NaN</td>\n",
       "      <td>3</td>\n",
       "      <td>1.0</td>\n",
       "      <td>NaN</td>\n",
       "      <td>NaN</td>\n",
       "      <td>23.770</td>\n",
       "      <td>74.786</td>\n",
       "    </tr>\n",
       "    <tr>\n",
       "      <th>2</th>\n",
       "      <td>3</td>\n",
       "      <td>Wednesday-May 8-2002</td>\n",
       "      <td>25 safar 1423 A.H</td>\n",
       "      <td>Working Day</td>\n",
       "      <td>NaN</td>\n",
       "      <td>7:45 AM</td>\n",
       "      <td>Karachi</td>\n",
       "      <td>24.991800</td>\n",
       "      <td>66.9911</td>\n",
       "      <td>Sindh</td>\n",
       "      <td>...</td>\n",
       "      <td>Christian</td>\n",
       "      <td>13.0</td>\n",
       "      <td>15.0</td>\n",
       "      <td>20.0</td>\n",
       "      <td>40</td>\n",
       "      <td>1.0</td>\n",
       "      <td>2.5 Kg</td>\n",
       "      <td>1.Jinnah Postgraduate Medical Center 2. Civil ...</td>\n",
       "      <td>31.460</td>\n",
       "      <td>88.628</td>\n",
       "    </tr>\n",
       "    <tr>\n",
       "      <th>3</th>\n",
       "      <td>4</td>\n",
       "      <td>Friday-June 14-2002</td>\n",
       "      <td>3 Raby` al-THaany 1423 A.H</td>\n",
       "      <td>Working Day</td>\n",
       "      <td>NaN</td>\n",
       "      <td>11:10:00 AM</td>\n",
       "      <td>Karachi</td>\n",
       "      <td>24.991800</td>\n",
       "      <td>66.9911</td>\n",
       "      <td>Sindh</td>\n",
       "      <td>...</td>\n",
       "      <td>Christian</td>\n",
       "      <td>NaN</td>\n",
       "      <td>12.0</td>\n",
       "      <td>NaN</td>\n",
       "      <td>51</td>\n",
       "      <td>1.0</td>\n",
       "      <td>NaN</td>\n",
       "      <td>NaN</td>\n",
       "      <td>31.430</td>\n",
       "      <td>88.574</td>\n",
       "    </tr>\n",
       "    <tr>\n",
       "      <th>4</th>\n",
       "      <td>5</td>\n",
       "      <td>Friday-July 4-2003</td>\n",
       "      <td>4 Jumaada al-awal 1424 A.H</td>\n",
       "      <td>Working Day</td>\n",
       "      <td>NaN</td>\n",
       "      <td>NaN</td>\n",
       "      <td>Quetta</td>\n",
       "      <td>30.209500</td>\n",
       "      <td>67.0182</td>\n",
       "      <td>Baluchistan</td>\n",
       "      <td>...</td>\n",
       "      <td>Shiite</td>\n",
       "      <td>44.0</td>\n",
       "      <td>47.0</td>\n",
       "      <td>NaN</td>\n",
       "      <td>65</td>\n",
       "      <td>1.0</td>\n",
       "      <td>NaN</td>\n",
       "      <td>1.CMH Quetta \\n2.Civil Hospital 3. Boland Medi...</td>\n",
       "      <td>33.120</td>\n",
       "      <td>91.616</td>\n",
       "    </tr>\n",
       "    <tr>\n",
       "      <th>...</th>\n",
       "      <td>...</td>\n",
       "      <td>...</td>\n",
       "      <td>...</td>\n",
       "      <td>...</td>\n",
       "      <td>...</td>\n",
       "      <td>...</td>\n",
       "      <td>...</td>\n",
       "      <td>...</td>\n",
       "      <td>...</td>\n",
       "      <td>...</td>\n",
       "      <td>...</td>\n",
       "      <td>...</td>\n",
       "      <td>...</td>\n",
       "      <td>...</td>\n",
       "      <td>...</td>\n",
       "      <td>...</td>\n",
       "      <td>...</td>\n",
       "      <td>...</td>\n",
       "      <td>...</td>\n",
       "      <td>...</td>\n",
       "      <td>...</td>\n",
       "    </tr>\n",
       "    <tr>\n",
       "      <th>487</th>\n",
       "      <td>488</td>\n",
       "      <td>Monday-July-17-2017</td>\n",
       "      <td>22 Shawaal 1432 A.H</td>\n",
       "      <td>Working Day</td>\n",
       "      <td>NaN</td>\n",
       "      <td>NaN</td>\n",
       "      <td>Peshawar</td>\n",
       "      <td>34.015000</td>\n",
       "      <td>71.5805</td>\n",
       "      <td>KPK</td>\n",
       "      <td>...</td>\n",
       "      <td>None</td>\n",
       "      <td>1.0</td>\n",
       "      <td>2.0</td>\n",
       "      <td>1.0</td>\n",
       "      <td>7</td>\n",
       "      <td>1.0</td>\n",
       "      <td>NaN</td>\n",
       "      <td>NaN</td>\n",
       "      <td>37.000</td>\n",
       "      <td>98.000</td>\n",
       "    </tr>\n",
       "    <tr>\n",
       "      <th>488</th>\n",
       "      <td>489</td>\n",
       "      <td>Monday-July-17-2017</td>\n",
       "      <td>22 Shawaal 1432 A.H</td>\n",
       "      <td>Working Day</td>\n",
       "      <td>NaN</td>\n",
       "      <td>NaN</td>\n",
       "      <td>Peshawar</td>\n",
       "      <td>34.015000</td>\n",
       "      <td>71.5805</td>\n",
       "      <td>KPK</td>\n",
       "      <td>...</td>\n",
       "      <td>None</td>\n",
       "      <td>1.0</td>\n",
       "      <td>1.0</td>\n",
       "      <td>1.0</td>\n",
       "      <td>1</td>\n",
       "      <td>1.0</td>\n",
       "      <td>NaN</td>\n",
       "      <td>NaN</td>\n",
       "      <td>37.000</td>\n",
       "      <td>98.000</td>\n",
       "    </tr>\n",
       "    <tr>\n",
       "      <th>489</th>\n",
       "      <td>490</td>\n",
       "      <td>Monday-July-24-2017</td>\n",
       "      <td>29 Shawaal 1432 A.H</td>\n",
       "      <td>Working Day</td>\n",
       "      <td>NaN</td>\n",
       "      <td>3:55pm</td>\n",
       "      <td>Lahore</td>\n",
       "      <td>31.500875</td>\n",
       "      <td>74.33312</td>\n",
       "      <td>Punjab</td>\n",
       "      <td>...</td>\n",
       "      <td>NaN</td>\n",
       "      <td>26.0</td>\n",
       "      <td>27.0</td>\n",
       "      <td>56.0</td>\n",
       "      <td>56</td>\n",
       "      <td>1.0</td>\n",
       "      <td>NaN</td>\n",
       "      <td>Jinnah Hospital, General Hospital, Ittefaq Hos...</td>\n",
       "      <td>32.000</td>\n",
       "      <td>88.000</td>\n",
       "    </tr>\n",
       "    <tr>\n",
       "      <th>490</th>\n",
       "      <td>491</td>\n",
       "      <td>Saturday-August-12-2017</td>\n",
       "      <td>NaN</td>\n",
       "      <td>Weekend</td>\n",
       "      <td>NaN</td>\n",
       "      <td>5:00PM</td>\n",
       "      <td>Quetta</td>\n",
       "      <td>30.203658</td>\n",
       "      <td>67.004469</td>\n",
       "      <td>Balochistan</td>\n",
       "      <td>...</td>\n",
       "      <td>None</td>\n",
       "      <td>15.0</td>\n",
       "      <td>15.0</td>\n",
       "      <td>40.0</td>\n",
       "      <td>40</td>\n",
       "      <td>1.0</td>\n",
       "      <td>25KG</td>\n",
       "      <td>NaN</td>\n",
       "      <td>29.000</td>\n",
       "      <td>NaN</td>\n",
       "    </tr>\n",
       "    <tr>\n",
       "      <th>491</th>\n",
       "      <td>492</td>\n",
       "      <td>Thursday-October-05-2017</td>\n",
       "      <td>NaN</td>\n",
       "      <td>NaN</td>\n",
       "      <td>NaN</td>\n",
       "      <td>NaN</td>\n",
       "      <td>Quetta</td>\n",
       "      <td>28.571051</td>\n",
       "      <td>67.496895</td>\n",
       "      <td>Balochistan</td>\n",
       "      <td>...</td>\n",
       "      <td>NaN</td>\n",
       "      <td>21.0</td>\n",
       "      <td>22.0</td>\n",
       "      <td>25.0</td>\n",
       "      <td>NaN</td>\n",
       "      <td>1.0</td>\n",
       "      <td>NaN</td>\n",
       "      <td>Larkana Hospital, Gandawah District Headquarte...</td>\n",
       "      <td>27.800</td>\n",
       "      <td>81.000</td>\n",
       "    </tr>\n",
       "  </tbody>\n",
       "</table>\n",
       "<p>492 rows × 26 columns</p>\n",
       "</div>"
      ],
      "text/plain": [
       "      S#                      Date                   Islamic Date  \\\n",
       "0      1   Sunday-November 19-1995  25 Jumaada al-THaany 1416 A.H   \n",
       "1      2    Monday-November 6-2000           10 SHa`baan 1421 A.H   \n",
       "2      3      Wednesday-May 8-2002              25 safar 1423 A.H   \n",
       "3      4       Friday-June 14-2002     3 Raby` al-THaany 1423 A.H   \n",
       "4      5        Friday-July 4-2003     4 Jumaada al-awal 1424 A.H   \n",
       "..   ...                       ...                            ...   \n",
       "487  488       Monday-July-17-2017            22 Shawaal 1432 A.H   \n",
       "488  489       Monday-July-17-2017            22 Shawaal 1432 A.H   \n",
       "489  490       Monday-July-24-2017            29 Shawaal 1432 A.H   \n",
       "490  491   Saturday-August-12-2017                            NaN   \n",
       "491  492  Thursday-October-05-2017                            NaN   \n",
       "\n",
       "    Blast Day Type Holiday Type         Time       City   Latitude  Longitude  \\\n",
       "0          Holiday      Weekend          NaN  Islamabad  33.718000    73.0718   \n",
       "1      Working Day          NaN          NaN    Karachi  24.991800    66.9911   \n",
       "2      Working Day          NaN      7:45 AM   Karachi   24.991800    66.9911   \n",
       "3      Working Day          NaN  11:10:00 AM    Karachi  24.991800    66.9911   \n",
       "4      Working Day          NaN          NaN     Quetta  30.209500    67.0182   \n",
       "..             ...          ...          ...        ...        ...        ...   \n",
       "487    Working Day          NaN          NaN   Peshawar  34.015000    71.5805   \n",
       "488    Working Day          NaN          NaN   Peshawar  34.015000    71.5805   \n",
       "489    Working Day          NaN       3:55pm     Lahore  31.500875   74.33312   \n",
       "490        Weekend          NaN       5:00PM     Quetta  30.203658  67.004469   \n",
       "491            NaN          NaN          NaN     Quetta  28.571051  67.496895   \n",
       "\n",
       "        Province  ... Targeted Sect if any Killed Min Killed Max Injured Min  \\\n",
       "0        Capital  ...                 None       14.0       15.0         NaN   \n",
       "1          Sindh  ...                 None        NaN        3.0         NaN   \n",
       "2          Sindh  ...            Christian       13.0       15.0        20.0   \n",
       "3          Sindh  ...            Christian        NaN       12.0         NaN   \n",
       "4    Baluchistan  ...               Shiite       44.0       47.0         NaN   \n",
       "..           ...  ...                  ...        ...        ...         ...   \n",
       "487          KPK  ...                 None        1.0        2.0         1.0   \n",
       "488          KPK  ...                 None        1.0        1.0         1.0   \n",
       "489       Punjab  ...                  NaN       26.0       27.0        56.0   \n",
       "490  Balochistan  ...                 None       15.0       15.0        40.0   \n",
       "491  Balochistan  ...                  NaN       21.0       22.0        25.0   \n",
       "\n",
       "    Injured Max No. of Suicide Blasts Explosive Weight (max)  \\\n",
       "0            60                   2.0                    NaN   \n",
       "1             3                   1.0                    NaN   \n",
       "2            40                   1.0                 2.5 Kg   \n",
       "3            51                   1.0                    NaN   \n",
       "4            65                   1.0                    NaN   \n",
       "..          ...                   ...                    ...   \n",
       "487           7                   1.0                    NaN   \n",
       "488           1                   1.0                    NaN   \n",
       "489          56                   1.0                    NaN   \n",
       "490          40                   1.0                   25KG   \n",
       "491         NaN                   1.0                    NaN   \n",
       "\n",
       "                                        Hospital Names  Temperature(C)  \\\n",
       "0                                                  NaN          15.835   \n",
       "1                                                  NaN          23.770   \n",
       "2    1.Jinnah Postgraduate Medical Center 2. Civil ...          31.460   \n",
       "3                                                  NaN          31.430   \n",
       "4    1.CMH Quetta \\n2.Civil Hospital 3. Boland Medi...          33.120   \n",
       "..                                                 ...             ...   \n",
       "487                                                NaN          37.000   \n",
       "488                                                NaN          37.000   \n",
       "489  Jinnah Hospital, General Hospital, Ittefaq Hos...          32.000   \n",
       "490                                                NaN          29.000   \n",
       "491  Larkana Hospital, Gandawah District Headquarte...          27.800   \n",
       "\n",
       "     Temperature(F)  \n",
       "0            60.503  \n",
       "1            74.786  \n",
       "2            88.628  \n",
       "3            88.574  \n",
       "4            91.616  \n",
       "..              ...  \n",
       "487          98.000  \n",
       "488          98.000  \n",
       "489          88.000  \n",
       "490             NaN  \n",
       "491          81.000  \n",
       "\n",
       "[492 rows x 26 columns]"
      ]
     },
     "execution_count": 1,
     "metadata": {},
     "output_type": "execute_result"
    }
   ],
   "source": [
    "import pandas as pd\n",
    "import numpy as np\n",
    "import seaborn as sns\n",
    "import matplotlib.pyplot as plt\n",
    "import fuzzywuzzy\n",
    "from fuzzywuzzy import process\n",
    "import chardet\n",
    "from scipy import stats\n",
    "from mlxtend.preprocessing import minmax_scaling\n",
    "myfile = pd.read_csv(\"C:\\\\Users\\\\hp\\\\Desktop\\\\pyFile\\\\suicide.csv\")\n",
    "df = pd.DataFrame(myfile)\n",
    "df"
   ]
  },
  {
   "cell_type": "code",
   "execution_count": 2,
   "id": "9ac59064",
   "metadata": {},
   "outputs": [
    {
     "data": {
      "text/plain": [
       "0          capital\n",
       "1            sindh\n",
       "2            sindh\n",
       "3            sindh\n",
       "4      baluchistan\n",
       "          ...     \n",
       "487            kpk\n",
       "488            kpk\n",
       "489         punjab\n",
       "490    balochistan\n",
       "491    balochistan\n",
       "Name: Province, Length: 492, dtype: object"
      ]
     },
     "execution_count": 2,
     "metadata": {},
     "output_type": "execute_result"
    }
   ],
   "source": [
    "df[\"Province\"] = df[\"Province\"].str.lower()\n",
    "df[\"Province\"] = df[\"Province\"].str.strip()\n",
    "df[\"Province\"]"
   ]
  },
  {
   "cell_type": "code",
   "execution_count": 3,
   "id": "e615ebdb",
   "metadata": {},
   "outputs": [
    {
     "data": {
      "text/plain": [
       "array(['capital', 'sindh', 'baluchistan', 'punjab', 'fata', 'kpk', 'ajk',\n",
       "       'balochistan'], dtype=object)"
      ]
     },
     "execution_count": 3,
     "metadata": {},
     "output_type": "execute_result"
    }
   ],
   "source": [
    "pro = df[\"Province\"].unique()\n",
    "pro"
   ]
  },
  {
   "cell_type": "code",
   "execution_count": 4,
   "id": "118c91c1",
   "metadata": {},
   "outputs": [
    {
     "data": {
      "text/plain": [
       "[('baluchistan', 100),\n",
       " ('balochistan', 91),\n",
       " ('fata', 40),\n",
       " ('capital', 22),\n",
       " ('ajk', 14)]"
      ]
     },
     "execution_count": 4,
     "metadata": {},
     "output_type": "execute_result"
    }
   ],
   "source": [
    "match = fuzzywuzzy.process.extract(\"baluchistan\",pro,scorer=fuzzywuzzy.fuzz.token_sort_ratio)\n",
    "match"
   ]
  },
  {
   "cell_type": "code",
   "execution_count": 5,
   "id": "d9909fa2",
   "metadata": {},
   "outputs": [
    {
     "name": "stdout",
     "output_type": "stream",
     "text": [
      "Done\n"
     ]
    }
   ],
   "source": [
    "def replace(df,column,string_to_match,min_ratio=91):\n",
    "    strings = df[column].unique()\n",
    "    matches = fuzzywuzzy.process.extract(string_to_match,strings,limit=2,scorer=fuzzywuzzy.fuzz.token_sort_ratio)\n",
    "    close = [matches[0] for matches in matches if matches[1] >= min_ratio]\n",
    "    row_with_matches = df[column].isin(close)\n",
    "    df.loc[row_with_matches,column] = string_to_match\n",
    "    print(\"Done\")\n",
    "replace(df=df,column=\"Province\",string_to_match=\"balochistan\")    "
   ]
  },
  {
   "cell_type": "code",
   "execution_count": 6,
   "id": "3849400d",
   "metadata": {},
   "outputs": [
    {
     "data": {
      "text/plain": [
       "array(['capital', 'sindh', 'balochistan', 'punjab', 'fata', 'kpk', 'ajk'],\n",
       "      dtype=object)"
      ]
     },
     "execution_count": 6,
     "metadata": {},
     "output_type": "execute_result"
    }
   ],
   "source": [
    "df[\"Province\"].unique()"
   ]
  },
  {
   "cell_type": "code",
   "execution_count": 7,
   "id": "5659f32a",
   "metadata": {},
   "outputs": [
    {
     "data": {
      "text/plain": [
       "array(['capital', 'sindh', 'balochistan', 'punjab', 'fata', 'kpk', 'ajk'],\n",
       "      dtype=object)"
      ]
     },
     "execution_count": 7,
     "metadata": {},
     "output_type": "execute_result"
    }
   ],
   "source": [
    "provs = df[\"Province\"].unique()\n",
    "provs"
   ]
  },
  {
   "cell_type": "code",
   "execution_count": 8,
   "id": "0ee8a839",
   "metadata": {},
   "outputs": [
    {
     "data": {
      "text/plain": [
       "[('baluchistan', 100),\n",
       " ('balochistan', 91),\n",
       " ('fata', 40),\n",
       " ('capital', 22),\n",
       " ('ajk', 14)]"
      ]
     },
     "execution_count": 8,
     "metadata": {},
     "output_type": "execute_result"
    }
   ],
   "source": [
    "match"
   ]
  },
  {
   "cell_type": "code",
   "execution_count": 9,
   "id": "f2a3cf40",
   "metadata": {},
   "outputs": [
    {
     "name": "stdout",
     "output_type": "stream",
     "text": [
      "Done\n"
     ]
    }
   ],
   "source": [
    "def replace(df,column,string_to_match,min_ratio=40):\n",
    "    strings = df[column].unique()\n",
    "    matches = fuzzywuzzy.process.extract(string_to_match,strings,limit=2,scorer=fuzzywuzzy.fuzz.token_sort_ratio)\n",
    "    close = [matches[0] for matches in matches if matches[1] >= min_ratio]\n",
    "    row_with_matches = df[column].isin(close)\n",
    "    df.loc[row_with_matches,column] = string_to_match\n",
    "    print(\"Done\")\n",
    "replace(df=df,column=\"Province\",string_to_match=\"Fata\")    "
   ]
  },
  {
   "cell_type": "code",
   "execution_count": 10,
   "id": "26fdbc0d",
   "metadata": {},
   "outputs": [
    {
     "data": {
      "text/plain": [
       "array(['Fata', 'sindh', 'balochistan', 'punjab', 'kpk', 'ajk'],\n",
       "      dtype=object)"
      ]
     },
     "execution_count": 10,
     "metadata": {},
     "output_type": "execute_result"
    }
   ],
   "source": [
    "df[\"Province\"].unique()"
   ]
  },
  {
   "cell_type": "code",
   "execution_count": 11,
   "id": "d1161e7a",
   "metadata": {},
   "outputs": [
    {
     "name": "stdout",
     "output_type": "stream",
     "text": [
      "<class 'pandas.core.frame.DataFrame'>\n",
      "RangeIndex: 492 entries, 0 to 491\n",
      "Data columns (total 26 columns):\n",
      " #   Column                   Non-Null Count  Dtype  \n",
      "---  ------                   --------------  -----  \n",
      " 0   S#                       492 non-null    int64  \n",
      " 1   Date                     492 non-null    object \n",
      " 2   Islamic Date             336 non-null    object \n",
      " 3   Blast Day Type           481 non-null    object \n",
      " 4   Holiday Type             72 non-null     object \n",
      " 5   Time                     281 non-null    object \n",
      " 6   City                     492 non-null    object \n",
      " 7   Latitude                 490 non-null    float64\n",
      " 8   Longitude                490 non-null    object \n",
      " 9   Province                 492 non-null    object \n",
      " 10  Location                 489 non-null    object \n",
      " 11  Location Category        457 non-null    object \n",
      " 12  Location Sensitivity     456 non-null    object \n",
      " 13  Open/Closed Space        457 non-null    object \n",
      " 14  Influencing Event/Event  187 non-null    object \n",
      " 15  Target Type              466 non-null    object \n",
      " 16  Targeted Sect if any     443 non-null    object \n",
      " 17  Killed Min               346 non-null    float64\n",
      " 18  Killed Max               476 non-null    float64\n",
      " 19  Injured Min              361 non-null    float64\n",
      " 20  Injured Max              460 non-null    object \n",
      " 21  No. of Suicide Blasts    410 non-null    float64\n",
      " 22  Explosive Weight (max)   169 non-null    object \n",
      " 23  Hospital Names           294 non-null    object \n",
      " 24  Temperature(C)           487 non-null    float64\n",
      " 25  Temperature(F)           485 non-null    float64\n",
      "dtypes: float64(7), int64(1), object(18)\n",
      "memory usage: 100.1+ KB\n"
     ]
    }
   ],
   "source": [
    "df.info()"
   ]
  },
  {
   "cell_type": "code",
   "execution_count": 12,
   "id": "34aa8fca",
   "metadata": {},
   "outputs": [
    {
     "data": {
      "text/plain": [
       "0        73.0718\n",
       "1        66.9911\n",
       "2        66.9911\n",
       "3        66.9911\n",
       "4        67.0182\n",
       "         ...    \n",
       "487      71.5805\n",
       "488      71.5805\n",
       "489     74.33312\n",
       "490    67.004469\n",
       "491    67.496895\n",
       "Name: Longitude, Length: 492, dtype: object"
      ]
     },
     "execution_count": 12,
     "metadata": {},
     "output_type": "execute_result"
    }
   ],
   "source": [
    "df[\"Longitude\"] = df[\"Longitude\"].str.strip()\n",
    "df[\"Longitude\"] = df[\"Longitude\"].str.lower()\n",
    "df[\"Longitude\"]"
   ]
  },
  {
   "cell_type": "code",
   "execution_count": 13,
   "id": "5d77f60a",
   "metadata": {},
   "outputs": [
    {
     "data": {
      "text/html": [
       "<div>\n",
       "<style scoped>\n",
       "    .dataframe tbody tr th:only-of-type {\n",
       "        vertical-align: middle;\n",
       "    }\n",
       "\n",
       "    .dataframe tbody tr th {\n",
       "        vertical-align: top;\n",
       "    }\n",
       "\n",
       "    .dataframe thead th {\n",
       "        text-align: right;\n",
       "    }\n",
       "</style>\n",
       "<table border=\"1\" class=\"dataframe\">\n",
       "  <thead>\n",
       "    <tr style=\"text-align: right;\">\n",
       "      <th></th>\n",
       "      <th>S#</th>\n",
       "      <th>Date</th>\n",
       "      <th>Islamic Date</th>\n",
       "      <th>Blast Day Type</th>\n",
       "      <th>Holiday Type</th>\n",
       "      <th>Time</th>\n",
       "      <th>City</th>\n",
       "      <th>Latitude</th>\n",
       "      <th>Longitude</th>\n",
       "      <th>Province</th>\n",
       "      <th>...</th>\n",
       "      <th>Targeted Sect if any</th>\n",
       "      <th>Killed Min</th>\n",
       "      <th>Killed Max</th>\n",
       "      <th>Injured Min</th>\n",
       "      <th>Injured Max</th>\n",
       "      <th>No. of Suicide Blasts</th>\n",
       "      <th>Explosive Weight (max)</th>\n",
       "      <th>Hospital Names</th>\n",
       "      <th>Temperature(C)</th>\n",
       "      <th>Temperature(F)</th>\n",
       "    </tr>\n",
       "  </thead>\n",
       "  <tbody>\n",
       "    <tr>\n",
       "      <th>478</th>\n",
       "      <td>479</td>\n",
       "      <td>Wednesday-Feb-15-2017</td>\n",
       "      <td>19 Jumada al-awwal 1438 A.H</td>\n",
       "      <td>Working Day</td>\n",
       "      <td>NaN</td>\n",
       "      <td>3:30 PM</td>\n",
       "      <td>Hayatabad</td>\n",
       "      <td>33.986111</td>\n",
       "      <td>�71.456944</td>\n",
       "      <td>kpk</td>\n",
       "      <td>...</td>\n",
       "      <td>None</td>\n",
       "      <td>1.0</td>\n",
       "      <td>1.0</td>\n",
       "      <td>4.0</td>\n",
       "      <td>18</td>\n",
       "      <td>1.0</td>\n",
       "      <td>15 KG</td>\n",
       "      <td>Hayatabad Medical Complex</td>\n",
       "      <td>16.63</td>\n",
       "      <td>61.934</td>\n",
       "    </tr>\n",
       "  </tbody>\n",
       "</table>\n",
       "<p>1 rows × 26 columns</p>\n",
       "</div>"
      ],
      "text/plain": [
       "      S#                   Date                 Islamic Date Blast Day Type  \\\n",
       "478  479  Wednesday-Feb-15-2017  19 Jumada al-awwal 1438 A.H    Working Day   \n",
       "\n",
       "    Holiday Type     Time       City   Latitude   Longitude Province  ...  \\\n",
       "478          NaN  3:30 PM  Hayatabad  33.986111  �71.456944      kpk  ...   \n",
       "\n",
       "    Targeted Sect if any Killed Min Killed Max Injured Min Injured Max  \\\n",
       "478                 None        1.0        1.0         4.0          18   \n",
       "\n",
       "    No. of Suicide Blasts Explosive Weight (max)             Hospital Names  \\\n",
       "478                   1.0                  15 KG  Hayatabad Medical Complex   \n",
       "\n",
       "     Temperature(C)  Temperature(F)  \n",
       "478           16.63          61.934  \n",
       "\n",
       "[1 rows x 26 columns]"
      ]
     },
     "execution_count": 13,
     "metadata": {},
     "output_type": "execute_result"
    }
   ],
   "source": [
    "df[df[\"S#\"] == 479]\n"
   ]
  },
  {
   "cell_type": "code",
   "execution_count": 14,
   "id": "419ffbbe",
   "metadata": {},
   "outputs": [
    {
     "ename": "ValueError",
     "evalue": "Unable to parse string \"�71.456944\" at position 478",
     "output_type": "error",
     "traceback": [
      "\u001b[1;31m---------------------------------------------------------------------------\u001b[0m",
      "\u001b[1;31mValueError\u001b[0m                                Traceback (most recent call last)",
      "\u001b[1;32mpandas\\_libs\\lib.pyx\u001b[0m in \u001b[0;36mpandas._libs.lib.maybe_convert_numeric\u001b[1;34m()\u001b[0m\n",
      "\u001b[1;31mValueError\u001b[0m: Unable to parse string \"�71.456944\"",
      "\nDuring handling of the above exception, another exception occurred:\n",
      "\u001b[1;31mValueError\u001b[0m                                Traceback (most recent call last)",
      "\u001b[1;32m<ipython-input-14-558e0fa326b4>\u001b[0m in \u001b[0;36m<module>\u001b[1;34m\u001b[0m\n\u001b[1;32m----> 1\u001b[1;33m \u001b[0mdf\u001b[0m\u001b[1;33m[\u001b[0m\u001b[1;34m\"Longitude\"\u001b[0m\u001b[1;33m]\u001b[0m \u001b[1;33m=\u001b[0m \u001b[0mpd\u001b[0m\u001b[1;33m.\u001b[0m\u001b[0mto_numeric\u001b[0m\u001b[1;33m(\u001b[0m\u001b[0mdf\u001b[0m\u001b[1;33m[\u001b[0m\u001b[1;34m\"Longitude\"\u001b[0m\u001b[1;33m]\u001b[0m\u001b[1;33m)\u001b[0m\u001b[1;33m\u001b[0m\u001b[1;33m\u001b[0m\u001b[0m\n\u001b[0m\u001b[0;32m      2\u001b[0m \u001b[0mdf\u001b[0m\u001b[1;33m[\u001b[0m\u001b[1;34m\"Longitude\"\u001b[0m\u001b[1;33m]\u001b[0m\u001b[1;33m.\u001b[0m\u001b[0mhead\u001b[0m\u001b[1;33m(\u001b[0m\u001b[1;33m)\u001b[0m\u001b[1;33m\u001b[0m\u001b[1;33m\u001b[0m\u001b[0m\n",
      "\u001b[1;32mC:\\ProgramData\\Anaconda3\\lib\\site-packages\\pandas\\core\\tools\\numeric.py\u001b[0m in \u001b[0;36mto_numeric\u001b[1;34m(arg, errors, downcast)\u001b[0m\n\u001b[0;32m    152\u001b[0m         \u001b[0mcoerce_numeric\u001b[0m \u001b[1;33m=\u001b[0m \u001b[0merrors\u001b[0m \u001b[1;32mnot\u001b[0m \u001b[1;32min\u001b[0m \u001b[1;33m(\u001b[0m\u001b[1;34m\"ignore\"\u001b[0m\u001b[1;33m,\u001b[0m \u001b[1;34m\"raise\"\u001b[0m\u001b[1;33m)\u001b[0m\u001b[1;33m\u001b[0m\u001b[1;33m\u001b[0m\u001b[0m\n\u001b[0;32m    153\u001b[0m         \u001b[1;32mtry\u001b[0m\u001b[1;33m:\u001b[0m\u001b[1;33m\u001b[0m\u001b[1;33m\u001b[0m\u001b[0m\n\u001b[1;32m--> 154\u001b[1;33m             values = lib.maybe_convert_numeric(\n\u001b[0m\u001b[0;32m    155\u001b[0m                 \u001b[0mvalues\u001b[0m\u001b[1;33m,\u001b[0m \u001b[0mset\u001b[0m\u001b[1;33m(\u001b[0m\u001b[1;33m)\u001b[0m\u001b[1;33m,\u001b[0m \u001b[0mcoerce_numeric\u001b[0m\u001b[1;33m=\u001b[0m\u001b[0mcoerce_numeric\u001b[0m\u001b[1;33m\u001b[0m\u001b[1;33m\u001b[0m\u001b[0m\n\u001b[0;32m    156\u001b[0m             )\n",
      "\u001b[1;32mpandas\\_libs\\lib.pyx\u001b[0m in \u001b[0;36mpandas._libs.lib.maybe_convert_numeric\u001b[1;34m()\u001b[0m\n",
      "\u001b[1;31mValueError\u001b[0m: Unable to parse string \"�71.456944\" at position 478"
     ]
    }
   ],
   "source": [
    "df[\"Longitude\"] = pd.to_numeric(df[\"Longitude\"])\n",
    "df[\"Longitude\"].head()"
   ]
  },
  {
   "cell_type": "code",
   "execution_count": 32,
   "id": "d6fe127d",
   "metadata": {},
   "outputs": [
    {
     "data": {
      "text/plain": [
       "Province\n",
       "Fata            93\n",
       "ajk              6\n",
       "balochistan     44\n",
       "kpk            250\n",
       "punjab          64\n",
       "sindh           35\n",
       "dtype: int64"
      ]
     },
     "execution_count": 32,
     "metadata": {},
     "output_type": "execute_result"
    }
   ],
   "source": [
    "cont = df.groupby(['Province']).size() #To count number of specific data in specific column \n",
    "cont"
   ]
  },
  {
   "cell_type": "code",
   "execution_count": 29,
   "id": "151d6ba7",
   "metadata": {},
   "outputs": [
    {
     "data": {
      "text/plain": [
       "<AxesSubplot:>"
      ]
     },
     "execution_count": 29,
     "metadata": {},
     "output_type": "execute_result"
    },
    {
     "data": {
      "image/png": "[encoded data removed]",
      "text/plain": [
       "<Figure size 432x288 with 1 Axes>"
      ]
     },
     "metadata": {
      "needs_background": "light"
     },
     "output_type": "display_data"
    }
   ],
   "source": [
    "con = df[\"Province\"]\n",
    "con.hist(density=1, histtype='stepfilled', bins=30,color=sns.desaturate('red',0.5))"
   ]
  },
  {
   "cell_type": "code",
   "execution_count": null,
   "id": "1ad16abb",
   "metadata": {},
   "outputs": [],
   "source": []
  }
 ],
 "metadata": {
  "kernelspec": {
   "display_name": "Python 3",
   "language": "python",
   "name": "python3"
  },
  "language_info": {
   "codemirror_mode": {
    "name": "ipython",
    "version": 3
   },
   "file_extension": ".py",
   "mimetype": "text/x-python",
   "name": "python",
   "nbconvert_exporter": "python",
   "pygments_lexer": "ipython3",
   "version": "3.8.8"
  }
 },
 "nbformat": 4,
 "nbformat_minor": 5
}
