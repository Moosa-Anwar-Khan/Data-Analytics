{
 "cells": [
  {
   "cell_type": "code",
   "execution_count": 1,
   "id": "d386e058",
   "metadata": {},
   "outputs": [],
   "source": [
    "import pandas as pd\n",
    "import matplotlib.pyplot as plt\n",
    "import numpy as np\n",
    "import nltk\n",
    "import codecs\n",
    "import re\n",
    "import copy\n",
    "import collections\n",
    "%matplotlib inline"
   ]
  },
  {
   "cell_type": "markdown",
   "id": "0b0fdc16",
   "metadata": {},
   "source": [
    "# Preprocessing of DonaldTrump.txt"
   ]
  },
  {
   "cell_type": "code",
   "execution_count": 2,
   "id": "9850f7bb",
   "metadata": {},
   "outputs": [
    {
     "name": "stdout",
     "output_type": "stream",
     "text": [
      "['donald', 'john', 'trump', 'born', 'june', 'american', 'politician', 'media', 'person', 'businessman', 'serv', 'presid', 'unit', 'state', 'trump', 'graduat', 'wharton', 'school', 'univers', 'pennsylvania', 'bachelor', 'degre', 'becam', 'presid', 'hi', 'father', 'real', 'estat', 'busi', 'renam', 'trump', 'organ', 'expand', 'compani', 'oper', 'build', 'renov', 'skyscrap', 'hotel', 'casino', 'golf', 'cours', 'later', 'start', 'side', 'ventur', 'mostli', 'licens', 'hi', 'name', 'coproduc', 'host', 'realiti', 'televis', 'seri', 'apprentic', 'trump', 'hi', 'busi', 'involv', 'state', 'feder', 'legal', 'action', 'includ', 'six', 'bankruptci', 'trump', 'polit', 'posit', 'describ', 'populist', 'protectionist', 'isolationist', 'nationalist', 'unit', 'state', 'presidenti', 'elect', 'republican', 'nomine', 'democrat', 'nomine', 'hillari', 'clinton', 'despit', 'lose', 'nation', 'popular', 'vote', 'becam', 'first', 'us', 'presid', 'prior', 'militari', 'govern', 'servic', 'hi', 'elect', 'polici', 'spark', 'numer', 'protest', 'special', 'counsel', 'investig', 'led', 'robert', 'mueller', 'establish', 'russia', 'interf', 'elect', 'favor', 'elect', 'trump', 'trump', 'promot', 'conspiraci', 'theori', 'made', 'mani', 'fals', 'mislead', 'statement', 'dure', 'hi', 'campaign', 'presid', 'degre', 'unpreced', 'american', 'polit', 'mani', 'hi', 'comment', 'action', 'character', 'racial', 'charg', 'racist', 'mani', 'misogynist', 'shortli', 'took', 'offic', 'trump', 'order', 'travel', 'ban', 'citizen', 'sever', 'muslimmajor', 'countri', 'divert', 'militari', 'fund', 'toward', 'build', 'wall', 'mexico', 'border', 'implement', 'polici', 'famili', 'separ', 'apprehend', 'migrant', 'roll', 'back', 'environment', 'polici', 'regul', 'aggress', 'attempt', 'weaken', 'environment', 'protect', 'trump', 'sign', 'tax', 'cut', 'job', 'act', 'cut', 'tax', 'individu', 'busi', 'rescind', 'individu', 'health', 'insur', 'mandat', 'penalti', 'afford', 'care', 'act', 'appoint', 'feder', 'appel', 'judg', 'three', 'unit', 'state', 'suprem', 'court', 'justic', 'trump', 'initi', 'trade', 'war', 'china', 'withdrew', 'us', 'propos', 'transpacif', 'partnership', 'trade', 'agreement', 'pari', 'agreement', 'climat', 'chang', 'iran', 'nuclear', 'deal', 'trump', 'met', 'north', 'korean', 'leader', 'kim', 'jongun', 'three', 'time', 'made', 'progress', 'denuclear', 'react', 'slowli', 'pandem', 'ignor', 'contradict', 'mani', 'recommend', 'health', 'offici', 'hi', 'messag', 'promot', 'misinform', 'unproven', 'treatment', 'need', 'testingtrump', 'lost', 'presidenti', 'elect', 'joe', 'biden', 'refus', 'conced', 'defeat', 'fals', 'claim', 'widespread', 'elector', 'fraud', 'attempt', 'overturn', 'result', 'pressur', 'govern', 'offici', 'mount', 'score', 'unsuccess', 'legal', 'challeng', 'obstruct', 'presidenti', 'transit', 'januari', 'trump', 'urg', 'hi', 'support', 'march', 'unit', 'state', 'capit', 'mani', 'attack', 'result', 'multipl', 'death', 'interrupt', 'elector', 'vote', 'counttrump', 'onli', 'american', 'presid', 'impeach', 'twice', 'tri', 'pressur', 'ukrain', 'investig', 'biden', 'wa', 'impeach', 'hous', 'repres', 'abus', 'power', 'obstruct', 'congress', 'decemb', 'acquit', 'senat', 'februari', 'hous', 'impeach', 'trump', 'second', 'time', 'januari', 'incit', 'insurrect', 'senat', 'acquit', 'februari', 'sinc', 'leav', 'offic', 'trump', 'ha', 'remain', 'heavili', 'involv', 'republican', 'parti', 'includ', 'make', 'polit', 'endors', 'dure', 'midterm', 'elect', 'novemb', 'announc', 'hi', 'candidaci', 'republican', 'nomin', 'presidenti', 'elect', 'decemb', 'hous', 'januari', 'committe', 'recommend', 'crimin', 'charg', 'trump', 'obstruct', 'offici', 'donald', 'john', 'trump', 'wa', 'born', 'june', 'jamaica', 'hospit', 'borough', 'queen', 'new', 'york', 'citi', 'fourth', 'child', 'fred', 'trump', 'bronxborn', 'real', 'estat', 'develop', 'whose', 'parent', 'german', 'immigr', 'mari', 'ann', 'macleod', 'trump', 'immigr', 'scotland', 'trump', 'grew', 'older', 'sibl', 'maryann', 'fred', 'jr', 'elizabeth', 'younger', 'brother', 'robert', 'jamaica', 'estat', 'neighborhood', 'queen', 'attend', 'privat', 'kewforest', 'school', 'kindergarten', 'seventh', 'grade', 'age', 'wa', 'enrol', 'new', 'york', 'militari', 'academi', 'privat', 'board', 'school', 'enrol', 'fordham', 'univers', 'two', 'year', 'later', 'transfer', 'wharton', 'school', 'univers', 'pennsylvania', 'graduat', 'may', 'b', 'econom', 'trump', 'lawyer', 'michael', 'cohen', 'threaten', 'trump', 'colleg', 'high', 'school', 'colleg', 'board', 'legal', 'action', 'releas', 'trump', 'academ', 'record', 'colleg', 'trump', 'obtain', 'four', 'student', 'draft', 'defer', 'dure', 'vietnam', 'war', 'era', 'wa', 'deem', 'fit', 'militari', 'servic', 'base', 'upon', 'medic', 'examin', 'juli', 'local', 'draft', 'board', 'classifi', 'elig', 'serv', 'octob', 'wa', 'classifi', 'condit', 'medic', 'defer', 'wa', 'reclassifi', 'due', 'bone', 'spur', 'perman', 'disqualifi', 'servic', 'proceed', 'conspiraci', 'defraud', 'unit', 'state', 'incit', 'assist', 'insurrect', 'scholar', 'historian', 'rank', 'trump', 'one', 'worst', 'presid', 'american', 'histori']\n"
     ]
    }
   ],
   "source": [
    "# load data\n",
    "filename = 'DonaldTrump.txt'\n",
    "file = open(filename, 'rt')\n",
    "text = file.read()\n",
    "file.close()\n",
    "# split into words\n",
    "from nltk.tokenize import word_tokenize\n",
    "tokens = word_tokenize(text)\n",
    "# stemming of words\n",
    "from nltk.stem.porter import PorterStemmer\n",
    "porter = PorterStemmer()\n",
    "stemmed = [porter.stem(word) for word in tokens]\n",
    "# convert to lower case\n",
    "tokens = [w.lower() for w in stemmed]\n",
    "# remove punctuation from each word\n",
    "import string\n",
    "table = str.maketrans('', '', string.punctuation)\n",
    "stripped = [w.translate(table) for w in tokens]\n",
    "# remove remaining tokens that are not alphabetic\n",
    "words = [word for word in stripped if word.isalpha()]\n",
    "# filter out stop words\n",
    "from nltk.corpus import stopwords\n",
    "stop_words = set(stopwords.words('english'))\n",
    "words = [w for w in words if not w in stop_words]\n",
    "print(words)"
   ]
  },
  {
   "cell_type": "markdown",
   "id": "9816e855",
   "metadata": {},
   "source": [
    "Converting List of words from file \"DonaldTrump.txt\" into String"
   ]
  },
  {
   "cell_type": "code",
   "execution_count": 3,
   "id": "b8e0fd45",
   "metadata": {},
   "outputs": [
    {
     "name": "stdout",
     "output_type": "stream",
     "text": [
      " donald john trump born june american politician media person businessman serv presid unit state trump graduat wharton school univers pennsylvania bachelor degre becam presid hi father real estat busi renam trump organ expand compani oper build renov skyscrap hotel casino golf cours later start side ventur mostli licens hi name coproduc host realiti televis seri apprentic trump hi busi involv state feder legal action includ six bankruptci trump polit posit describ populist protectionist isolationist nationalist unit state presidenti elect republican nomine democrat nomine hillari clinton despit lose nation popular vote becam first us presid prior militari govern servic hi elect polici spark numer protest special counsel investig led robert mueller establish russia interf elect favor elect trump trump promot conspiraci theori made mani fals mislead statement dure hi campaign presid degre unpreced american polit mani hi comment action character racial charg racist mani misogynist shortli took offic trump order travel ban citizen sever muslimmajor countri divert militari fund toward build wall mexico border implement polici famili separ apprehend migrant roll back environment polici regul aggress attempt weaken environment protect trump sign tax cut job act cut tax individu busi rescind individu health insur mandat penalti afford care act appoint feder appel judg three unit state suprem court justic trump initi trade war china withdrew us propos transpacif partnership trade agreement pari agreement climat chang iran nuclear deal trump met north korean leader kim jongun three time made progress denuclear react slowli pandem ignor contradict mani recommend health offici hi messag promot misinform unproven treatment need testingtrump lost presidenti elect joe biden refus conced defeat fals claim widespread elector fraud attempt overturn result pressur govern offici mount score unsuccess legal challeng obstruct presidenti transit januari trump urg hi support march unit state capit mani attack result multipl death interrupt elector vote counttrump onli american presid impeach twice tri pressur ukrain investig biden wa impeach hous repres abus power obstruct congress decemb acquit senat februari hous impeach trump second time januari incit insurrect senat acquit februari sinc leav offic trump ha remain heavili involv republican parti includ make polit endors dure midterm elect novemb announc hi candidaci republican nomin presidenti elect decemb hous januari committe recommend crimin charg trump obstruct offici donald john trump wa born june jamaica hospit borough queen new york citi fourth child fred trump bronxborn real estat develop whose parent german immigr mari ann macleod trump immigr scotland trump grew older sibl maryann fred jr elizabeth younger brother robert jamaica estat neighborhood queen attend privat kewforest school kindergarten seventh grade age wa enrol new york militari academi privat board school enrol fordham univers two year later transfer wharton school univers pennsylvania graduat may b econom trump lawyer michael cohen threaten trump colleg high school colleg board legal action releas trump academ record colleg trump obtain four student draft defer dure vietnam war era wa deem fit militari servic base upon medic examin juli local draft board classifi elig serv octob wa classifi condit medic defer wa reclassifi due bone spur perman disqualifi servic proceed conspiraci defraud unit state incit assist insurrect scholar historian rank trump one worst presid american histori\n"
     ]
    }
   ],
   "source": [
    "def listToString(lst):\n",
    "    str1=\"\"\n",
    "    for ele in lst:\n",
    "        str1 = str1 + \" \" + ele\n",
    "    return str1\n",
    "\n",
    "donaldTxt = listToString(words)\n",
    "print(donaldTxt)"
   ]
  },
  {
   "cell_type": "markdown",
   "id": "ee3074f7",
   "metadata": {},
   "source": [
    "# Preprocessing of hillaryClinton.txt"
   ]
  },
  {
   "cell_type": "code",
   "execution_count": 4,
   "id": "c191c79b",
   "metadata": {},
   "outputs": [
    {
     "name": "stdout",
     "output_type": "stream",
     "text": [
      "['hillari', 'dian', 'clinton', 'born', 'octob', 'american', 'politician', 'diplomat', 'former', 'lawyer', 'serv', 'unit', 'state', 'secretari', 'state', 'presid', 'barack', 'obama', 'unit', 'state', 'senat', 'repres', 'new', 'york', 'first', 'ladi', 'unit', 'state', 'wife', 'presid', 'bill', 'clinton', 'member', 'democrat', 'parti', 'wa', 'parti', 'nomine', 'presid', 'presidenti', 'elect', 'becom', 'first', 'woman', 'win', 'presidenti', 'nomin', 'major', 'us', 'polit', 'parti', 'clinton', 'popular', 'vote', 'lost', 'elector', 'colleg', 'vote', 'therebi', 'lose', 'elect', 'donald', 'trump', 'rais', 'chicago', 'suburb', 'park', 'ridg', 'rodham', 'graduat', 'wellesley', 'colleg', 'earn', 'juri', 'doctor', 'degre', 'yale', 'law', 'school', 'serv', 'congression', 'legal', 'counsel', 'move', 'arkansa', 'marri', 'futur', 'presid', 'bill', 'clinton', 'two', 'met', 'yale', 'clinton', 'cofound', 'arkansa', 'advoc', 'children', 'famili', 'wa', 'appoint', 'first', 'femal', 'chair', 'legal', 'servic', 'corpor', 'becam', 'first', 'femal', 'partner', 'littl', 'rock', 'rose', 'law', 'firm', 'follow', 'year', 'nation', 'law', 'journal', 'twice', 'list', 'one', 'hundr', 'influenti', 'lawyer', 'america', 'clinton', 'wa', 'first', 'ladi', 'arkansa', 'first', 'ladi', 'unit', 'state', 'clinton', 'advoc', 'healthcar', 'reform', 'major', 'clinton', 'health', 'care', 'fail', 'gain', 'approv', 'congress', 'clinton', 'play', 'lead', 'role', 'advoc', 'creation', 'state', 'children', 'health', 'insur', 'program', 'adopt', 'safe', 'famili', 'act', 'foster', 'care', 'independ', 'act', 'clinton', 'advoc', 'gender', 'equal', 'un', 'confer', 'women', 'marit', 'relationship', 'came', 'public', 'scrutini', 'dure', 'lewinski', 'scandal', 'led', 'issu', 'statement', 'reaffirm', 'commit', 'marriag', 'clinton', 'wa', 'elect', 'first', 'femal', 'senat', 'new', 'york', 'becam', 'first', 'first', 'ladi', 'simultan', 'hold', 'elect', 'offic', 'first', 'former', 'first', 'ladi', 'serv', 'senat', 'wa', 'reelect', 'chair', 'senat', 'democrat', 'steer', 'outreach', 'committe', 'dure', 'senat', 'tenur', 'clinton', 'advoc', 'medic', 'benefit', 'first', 'respond', 'whose', 'health', 'wa', 'impact', 'septemb', 'attack', 'support', 'resolut', 'author', 'iraq', 'war', 'oppos', 'surg', 'us', 'troop', 'clinton', 'ran', 'presid', 'wa', 'defeat', 'eventu', 'winner', 'barack', 'obama', 'democrat', 'primari', 'clinton', 'wa', 'us', 'secretari', 'state', 'first', 'term', 'obama', 'administr', 'dure', 'tenur', 'clinton', 'establish', 'quadrenni', 'diplomaci', 'develop', 'review', 'respond', 'arab', 'spring', 'advoc', 'militari', 'intervent', 'libya', 'wa', 'harshli', 'critic', 'republican', 'failur', 'prevent', 'adequ', 'respond', 'benghazi', 'attack', 'clinton', 'help', 'organ', 'diplomat', 'isol', 'regim', 'intern', 'sanction', 'iran', 'effort', 'forc', 'curtail', 'nuclear', 'program', 'thi', 'effort', 'eventu', 'led', 'multin', 'jcpoa', 'nuclear', 'agreement', 'use', 'privat', 'email', 'server', 'wa', 'secretari', 'state', 'wa', 'subject', 'intens', 'scrutini', 'charg', 'file', 'clinton', 'email', 'controversi', 'wa', 'singl', 'cover', 'topic', 'dure', 'presidenti', 'elect', 'clinton', 'made', 'second', 'presidenti', 'run', 'win', 'democrat', 'nomin', 'ran', 'gener', 'elect', 'virginia', 'senat', 'tim', 'kain', 'run', 'mate', 'clinton', 'lost', 'presidenti', 'elect', 'republican', 'oppon', 'donald', 'trump', 'elector', 'colleg', 'despit', 'win', 'popular', 'vote', 'close', 'million', 'vote', 'follow', 'loss', 'wrote', 'third', 'memoir', 'happen', 'launch', 'onward', 'togeth', 'polit', 'action', 'organ', 'dedic', 'fundrais', 'progress', 'polit', 'group', 'start', 'februari', 'join', 'faculti', 'school', 'intern', 'public', 'affair', 'columbia', 'univers', 'hillari', 'dian', 'rodham', 'wa', 'born', 'octob', 'edgewat', 'medic', 'center', 'chicago', 'illinoi', 'wa', 'rais', 'methodist', 'famili', 'first', 'live', 'chicago', 'wa', 'three', 'year', 'old', 'famili', 'move', 'chicago', 'suburb', 'park', 'ridg', 'father', 'hugh', 'rodham', 'wa', 'english', 'welsh', 'descent', 'manag', 'small', 'success', 'textil', 'busi', 'found', 'mother', 'dorothi', 'howel', 'wa', 'homemak', 'dutch', 'english', 'french', 'canadian', 'quebec', 'scottish', 'welsh', 'descent', 'two', 'younger', 'brother', 'hugh', 'toni', 'child', 'rodham', 'wa', 'favorit', 'student', 'among', 'teacher', 'public', 'school', 'attend', 'park', 'ridg', 'particip', 'swim', 'softbal', 'earn', 'numer', 'badg', 'browni', 'girl', 'scout', 'wa', 'inspir', 'us', 'effort', 'dure', 'space', 'race', 'sent', 'letter', 'nasa', 'around', 'ask', 'could', 'becom', 'astronaut', 'onli', 'inform', 'women', 'accept', 'program', 'attend', 'main', 'east', 'high', 'school', 'particip', 'student', 'council', 'school', 'newspap', 'wa', 'select', 'nation', 'honor', 'societi', 'wa', 'elect', 'class', 'vice', 'presid', 'junior', 'year', 'lost', 'elect', 'class', 'presid', 'senior', 'year', 'two', 'boy', 'one', 'told', 'realli', 'stupid', 'think', 'girl', 'elect', 'presid', 'senior', 'year', 'student', 'transfer', 'thennew', 'main', 'south', 'high', 'school', 'wa', 'nation', 'merit', 'finalist', 'wa', 'vote', 'like', 'succeed', 'graduat', 'top', 'five', 'percent', 'class', 'rodham', 'mother', 'want', 'independ', 'profession', 'career', 'father', 'wa', 'otherwis', 'traditionalist', 'felt', 'hi', 'daughter', 'abil', 'opportun', 'limit', 'gender', 'wa', 'rais', 'polit', 'conserv', 'household', 'help', 'canvass', 'chicago', 'south', 'side', 'age', 'veri', 'close', 'us', 'presidenti', 'elect', 'state', 'investig', 'fellow', 'teenag', 'friend', 'shortli', 'elect', 'saw', 'evid', 'elector', 'fraud', 'vote', 'list', 'entri', 'show', 'dozen', 'address', 'wa', 'empti', 'lot', 'republican', 'candid', 'richard', 'nixon', 'later', 'volunt', 'campaign', 'republican', 'candid', 'barri', 'goldwat', 'elect', 'rodham', 'earli', 'polit', 'develop', 'wa', 'shape', 'mostli', 'high', 'school', 'histori', 'teacher', 'like', 'father', 'fervent', 'anticommunist', 'introduc', 'goldwat', 'conscienc', 'conserv', 'methodist', 'youth', 'minist', 'like', 'mother', 'concern', 'issu', 'social', 'justic', 'saw', 'afterward', 'briefli', 'met', 'civil', 'right', 'leader', 'martin', 'luther', 'king', 'jr', 'speech', 'chicago', 'orchestra', 'hall']\n"
     ]
    }
   ],
   "source": [
    "# load data\n",
    "filename2 = 'hillaryClinton.txt'\n",
    "file2 = open(filename2, 'rt')\n",
    "text2 = file2.read()\n",
    "file2.close()\n",
    "# split into words\n",
    "from nltk.tokenize import word_tokenize\n",
    "tokens2 = word_tokenize(text2)\n",
    "# stemming of words\n",
    "from nltk.stem.porter import PorterStemmer\n",
    "porter2 = PorterStemmer()\n",
    "stemmed2 = [porter.stem(word) for word in tokens2]\n",
    "# convert to lower case\n",
    "tokens2 = [w.lower() for w in stemmed2]\n",
    "# remove punctuation from each word\n",
    "import string\n",
    "table2 = str.maketrans('', '', string.punctuation)\n",
    "stripped2 = [w.translate(table2) for w in tokens2]\n",
    "# remove remaining tokens that are not alphabetic\n",
    "words2 = [word2 for word2 in stripped2 if word2.isalpha()]\n",
    "# filter out stop words\n",
    "from nltk.corpus import stopwords\n",
    "stop_words2 = set(stopwords.words('english'))\n",
    "words2 = [w2 for w2 in words2 if not w2 in stop_words2]\n",
    "print(words2)"
   ]
  },
  {
   "cell_type": "markdown",
   "id": "80fd8497",
   "metadata": {},
   "source": [
    "Converting List of words from file \"hillaryClinton.txt\" into String"
   ]
  },
  {
   "cell_type": "code",
   "execution_count": 5,
   "id": "118d5098",
   "metadata": {},
   "outputs": [
    {
     "name": "stdout",
     "output_type": "stream",
     "text": [
      " hillari dian clinton born octob american politician diplomat former lawyer serv unit state secretari state presid barack obama unit state senat repres new york first ladi unit state wife presid bill clinton member democrat parti wa parti nomine presid presidenti elect becom first woman win presidenti nomin major us polit parti clinton popular vote lost elector colleg vote therebi lose elect donald trump rais chicago suburb park ridg rodham graduat wellesley colleg earn juri doctor degre yale law school serv congression legal counsel move arkansa marri futur presid bill clinton two met yale clinton cofound arkansa advoc children famili wa appoint first femal chair legal servic corpor becam first femal partner littl rock rose law firm follow year nation law journal twice list one hundr influenti lawyer america clinton wa first ladi arkansa first ladi unit state clinton advoc healthcar reform major clinton health care fail gain approv congress clinton play lead role advoc creation state children health insur program adopt safe famili act foster care independ act clinton advoc gender equal un confer women marit relationship came public scrutini dure lewinski scandal led issu statement reaffirm commit marriag clinton wa elect first femal senat new york becam first first ladi simultan hold elect offic first former first ladi serv senat wa reelect chair senat democrat steer outreach committe dure senat tenur clinton advoc medic benefit first respond whose health wa impact septemb attack support resolut author iraq war oppos surg us troop clinton ran presid wa defeat eventu winner barack obama democrat primari clinton wa us secretari state first term obama administr dure tenur clinton establish quadrenni diplomaci develop review respond arab spring advoc militari intervent libya wa harshli critic republican failur prevent adequ respond benghazi attack clinton help organ diplomat isol regim intern sanction iran effort forc curtail nuclear program thi effort eventu led multin jcpoa nuclear agreement use privat email server wa secretari state wa subject intens scrutini charg file clinton email controversi wa singl cover topic dure presidenti elect clinton made second presidenti run win democrat nomin ran gener elect virginia senat tim kain run mate clinton lost presidenti elect republican oppon donald trump elector colleg despit win popular vote close million vote follow loss wrote third memoir happen launch onward togeth polit action organ dedic fundrais progress polit group start februari join faculti school intern public affair columbia univers hillari dian rodham wa born octob edgewat medic center chicago illinoi wa rais methodist famili first live chicago wa three year old famili move chicago suburb park ridg father hugh rodham wa english welsh descent manag small success textil busi found mother dorothi howel wa homemak dutch english french canadian quebec scottish welsh descent two younger brother hugh toni child rodham wa favorit student among teacher public school attend park ridg particip swim softbal earn numer badg browni girl scout wa inspir us effort dure space race sent letter nasa around ask could becom astronaut onli inform women accept program attend main east high school particip student council school newspap wa select nation honor societi wa elect class vice presid junior year lost elect class presid senior year two boy one told realli stupid think girl elect presid senior year student transfer thennew main south high school wa nation merit finalist wa vote like succeed graduat top five percent class rodham mother want independ profession career father wa otherwis traditionalist felt hi daughter abil opportun limit gender wa rais polit conserv household help canvass chicago south side age veri close us presidenti elect state investig fellow teenag friend shortli elect saw evid elector fraud vote list entri show dozen address wa empti lot republican candid richard nixon later volunt campaign republican candid barri goldwat elect rodham earli polit develop wa shape mostli high school histori teacher like father fervent anticommunist introduc goldwat conscienc conserv methodist youth minist like mother concern issu social justic saw afterward briefli met civil right leader martin luther king jr speech chicago orchestra hall\n"
     ]
    }
   ],
   "source": [
    "hillaryTxt = listToString(words2)\n",
    "print(hillaryTxt)"
   ]
  },
  {
   "cell_type": "markdown",
   "id": "bb7a42c0",
   "metadata": {},
   "source": [
    "Creating a token counter function"
   ]
  },
  {
   "cell_type": "code",
   "execution_count": 6,
   "id": "e8276ea7",
   "metadata": {},
   "outputs": [],
   "source": [
    "def get_text_counter(text):\n",
    "    return collections.Counter(text), len(text)"
   ]
  },
  {
   "cell_type": "markdown",
   "id": "097c4c2d",
   "metadata": {},
   "source": [
    "Creating a function to calculate absolute frequency and relative frequency"
   ]
  },
  {
   "cell_type": "code",
   "execution_count": 7,
   "id": "be62a9a3",
   "metadata": {},
   "outputs": [],
   "source": [
    "def make_df(counter, size):\n",
    "    abs_freq = np.array([el[1] for el in counter])\n",
    "    rel_freq = abs_freq / size\n",
    "    index = [el[0] for el in counter]\n",
    "    df = pd.DataFrame(data=np.array([abs_freq, rel_freq]).T, index=index, columns = [\"Absolute frequency\", \"Relative frequency\"])\n",
    "    df.index.name = \"Most common words\"\n",
    "    return df"
   ]
  },
  {
   "cell_type": "markdown",
   "id": "957728a5",
   "metadata": {},
   "source": [
    "# Analysis"
   ]
  },
  {
   "cell_type": "markdown",
   "id": "ddb337d5",
   "metadata": {},
   "source": [
    "Calculating 10 common words of \"DonaldTrump.txt\""
   ]
  },
  {
   "cell_type": "code",
   "execution_count": 8,
   "id": "34b93caa",
   "metadata": {},
   "outputs": [
    {
     "data": {
      "text/html": [
       "<div>\n",
       "<style scoped>\n",
       "    .dataframe tbody tr th:only-of-type {\n",
       "        vertical-align: middle;\n",
       "    }\n",
       "\n",
       "    .dataframe tbody tr th {\n",
       "        vertical-align: top;\n",
       "    }\n",
       "\n",
       "    .dataframe thead th {\n",
       "        text-align: right;\n",
       "    }\n",
       "</style>\n",
       "<table border=\"1\" class=\"dataframe\">\n",
       "  <thead>\n",
       "    <tr style=\"text-align: right;\">\n",
       "      <th></th>\n",
       "      <th>Absolute frequency</th>\n",
       "      <th>Relative frequency</th>\n",
       "    </tr>\n",
       "    <tr>\n",
       "      <th>Most common words</th>\n",
       "      <th></th>\n",
       "      <th></th>\n",
       "    </tr>\n",
       "  </thead>\n",
       "  <tbody>\n",
       "    <tr>\n",
       "      <th>trump</th>\n",
       "      <td>24.0</td>\n",
       "      <td>0.045977</td>\n",
       "    </tr>\n",
       "    <tr>\n",
       "      <th>hi</th>\n",
       "      <td>9.0</td>\n",
       "      <td>0.017241</td>\n",
       "    </tr>\n",
       "    <tr>\n",
       "      <th>elect</th>\n",
       "      <td>7.0</td>\n",
       "      <td>0.013410</td>\n",
       "    </tr>\n",
       "    <tr>\n",
       "      <th>presid</th>\n",
       "      <td>6.0</td>\n",
       "      <td>0.011494</td>\n",
       "    </tr>\n",
       "    <tr>\n",
       "      <th>state</th>\n",
       "      <td>6.0</td>\n",
       "      <td>0.011494</td>\n",
       "    </tr>\n",
       "    <tr>\n",
       "      <th>wa</th>\n",
       "      <td>6.0</td>\n",
       "      <td>0.011494</td>\n",
       "    </tr>\n",
       "    <tr>\n",
       "      <th>unit</th>\n",
       "      <td>5.0</td>\n",
       "      <td>0.009579</td>\n",
       "    </tr>\n",
       "    <tr>\n",
       "      <th>school</th>\n",
       "      <td>5.0</td>\n",
       "      <td>0.009579</td>\n",
       "    </tr>\n",
       "    <tr>\n",
       "      <th>mani</th>\n",
       "      <td>5.0</td>\n",
       "      <td>0.009579</td>\n",
       "    </tr>\n",
       "    <tr>\n",
       "      <th>american</th>\n",
       "      <td>4.0</td>\n",
       "      <td>0.007663</td>\n",
       "    </tr>\n",
       "  </tbody>\n",
       "</table>\n",
       "</div>"
      ],
      "text/plain": [
       "                   Absolute frequency  Relative frequency\n",
       "Most common words                                        \n",
       "trump                            24.0            0.045977\n",
       "hi                                9.0            0.017241\n",
       "elect                             7.0            0.013410\n",
       "presid                            6.0            0.011494\n",
       "state                             6.0            0.011494\n",
       "wa                                6.0            0.011494\n",
       "unit                              5.0            0.009579\n",
       "school                            5.0            0.009579\n",
       "mani                              5.0            0.009579\n",
       "american                          4.0            0.007663"
      ]
     },
     "execution_count": 8,
     "metadata": {},
     "output_type": "execute_result"
    }
   ],
   "source": [
    "dt_counter, dt_size = get_text_counter(words) # \"words\" here is a list of words from \"DonaldTrump.txt\"  \n",
    "make_df(dt_counter.most_common(10),dt_size)"
   ]
  },
  {
   "cell_type": "markdown",
   "id": "ffdfd743",
   "metadata": {},
   "source": [
    "Calculating 10 common words of \"hillaryClinton.txt\""
   ]
  },
  {
   "cell_type": "code",
   "execution_count": 9,
   "id": "b45396a1",
   "metadata": {},
   "outputs": [
    {
     "data": {
      "text/html": [
       "<div>\n",
       "<style scoped>\n",
       "    .dataframe tbody tr th:only-of-type {\n",
       "        vertical-align: middle;\n",
       "    }\n",
       "\n",
       "    .dataframe tbody tr th {\n",
       "        vertical-align: top;\n",
       "    }\n",
       "\n",
       "    .dataframe thead th {\n",
       "        text-align: right;\n",
       "    }\n",
       "</style>\n",
       "<table border=\"1\" class=\"dataframe\">\n",
       "  <thead>\n",
       "    <tr style=\"text-align: right;\">\n",
       "      <th></th>\n",
       "      <th>Absolute frequency</th>\n",
       "      <th>Relative frequency</th>\n",
       "    </tr>\n",
       "    <tr>\n",
       "      <th>Most common words</th>\n",
       "      <th></th>\n",
       "      <th></th>\n",
       "    </tr>\n",
       "  </thead>\n",
       "  <tbody>\n",
       "    <tr>\n",
       "      <th>wa</th>\n",
       "      <td>27.0</td>\n",
       "      <td>0.040785</td>\n",
       "    </tr>\n",
       "    <tr>\n",
       "      <th>clinton</th>\n",
       "      <td>19.0</td>\n",
       "      <td>0.028701</td>\n",
       "    </tr>\n",
       "    <tr>\n",
       "      <th>first</th>\n",
       "      <td>14.0</td>\n",
       "      <td>0.021148</td>\n",
       "    </tr>\n",
       "    <tr>\n",
       "      <th>elect</th>\n",
       "      <td>13.0</td>\n",
       "      <td>0.019637</td>\n",
       "    </tr>\n",
       "    <tr>\n",
       "      <th>state</th>\n",
       "      <td>9.0</td>\n",
       "      <td>0.013595</td>\n",
       "    </tr>\n",
       "    <tr>\n",
       "      <th>presid</th>\n",
       "      <td>8.0</td>\n",
       "      <td>0.012085</td>\n",
       "    </tr>\n",
       "    <tr>\n",
       "      <th>school</th>\n",
       "      <td>7.0</td>\n",
       "      <td>0.010574</td>\n",
       "    </tr>\n",
       "    <tr>\n",
       "      <th>senat</th>\n",
       "      <td>6.0</td>\n",
       "      <td>0.009063</td>\n",
       "    </tr>\n",
       "    <tr>\n",
       "      <th>presidenti</th>\n",
       "      <td>6.0</td>\n",
       "      <td>0.009063</td>\n",
       "    </tr>\n",
       "    <tr>\n",
       "      <th>vote</th>\n",
       "      <td>6.0</td>\n",
       "      <td>0.009063</td>\n",
       "    </tr>\n",
       "  </tbody>\n",
       "</table>\n",
       "</div>"
      ],
      "text/plain": [
       "                   Absolute frequency  Relative frequency\n",
       "Most common words                                        \n",
       "wa                               27.0            0.040785\n",
       "clinton                          19.0            0.028701\n",
       "first                            14.0            0.021148\n",
       "elect                            13.0            0.019637\n",
       "state                             9.0            0.013595\n",
       "presid                            8.0            0.012085\n",
       "school                            7.0            0.010574\n",
       "senat                             6.0            0.009063\n",
       "presidenti                        6.0            0.009063\n",
       "vote                              6.0            0.009063"
      ]
     },
     "execution_count": 9,
     "metadata": {},
     "output_type": "execute_result"
    }
   ],
   "source": [
    "hc_counter, hc_size = get_text_counter(words2) # \"words2\" here is a list of words from \"hillaryClinton.txt\"  \n",
    "make_df(hc_counter.most_common(10),hc_size)"
   ]
  },
  {
   "cell_type": "markdown",
   "id": "0d92d958",
   "metadata": {},
   "source": [
    "Saving 500 most common words from \"DonaldTrump.txt\" to CSV file"
   ]
  },
  {
   "cell_type": "code",
   "execution_count": 10,
   "id": "7f875788",
   "metadata": {},
   "outputs": [],
   "source": [
    "DT_df = make_df(dt_counter.most_common(500),dt_size)\n",
    "DT_df.to_csv(\"DonaldTrump_common_500_words.csv\")"
   ]
  },
  {
   "cell_type": "markdown",
   "id": "8f05b7d2",
   "metadata": {},
   "source": [
    "Saving 500 most common words from \"hillaryClinton.txt\" to CSV file"
   ]
  },
  {
   "cell_type": "code",
   "execution_count": 11,
   "id": "ee3feabe",
   "metadata": {},
   "outputs": [],
   "source": [
    "HC_df = make_df(hc_counter.most_common(500),hc_size)\n",
    "HC_df.to_csv(\"hillaryClinton_common_500_words.csv\")"
   ]
  },
  {
   "cell_type": "markdown",
   "id": "90782fa2",
   "metadata": {},
   "source": [
    "# Comparing texts from \"DonaldTrump.txt\" and \"hillaryClinton.txt\""
   ]
  },
  {
   "cell_type": "markdown",
   "id": "7583098a",
   "metadata": {},
   "source": [
    "Finding most common words across the two documents"
   ]
  },
  {
   "cell_type": "code",
   "execution_count": 12,
   "id": "159e26db",
   "metadata": {},
   "outputs": [],
   "source": [
    "all_counter = dt_counter + hc_counter\n",
    "all_df = make_df(hc_counter.most_common(500),1)\n",
    "most_common_words = all_df.index.values"
   ]
  },
  {
   "cell_type": "markdown",
   "id": "5c417b5b",
   "metadata": {},
   "source": [
    "Creating a dataframe with the word frequency differences"
   ]
  },
  {
   "cell_type": "code",
   "execution_count": 13,
   "id": "22b0105a",
   "metadata": {},
   "outputs": [],
   "source": [
    "df_data = []\n",
    "for word in most_common_words:\n",
    "    dt_c = dt_counter.get(word,0) / dt_size\n",
    "    hc_c = hc_counter.get(word,0) / hc_size\n",
    "    d = abs(dt_c - hc_c)\n",
    "    df_data.append([dt_c, hc_c, d])\n",
    "dist_df = pd.DataFrame(data=df_data, index=most_common_words, \n",
    "                      columns=[\"DonaldTrump.txt Relative frequency\", \"hillaryClinton.txt Relative frequency\", \n",
    "                              \"Relative frequency difference\"])\n",
    "dist_df.index.name = \"Most common words\"\n",
    "dist_df.sort_values(\"Relative frequency difference\", ascending=False, inplace=True)"
   ]
  },
  {
   "cell_type": "markdown",
   "id": "104f65de",
   "metadata": {},
   "source": [
    "Displaying the most distinctive words:"
   ]
  },
  {
   "cell_type": "code",
   "execution_count": 14,
   "id": "561ccf49",
   "metadata": {},
   "outputs": [
    {
     "data": {
      "text/html": [
       "<div>\n",
       "<style scoped>\n",
       "    .dataframe tbody tr th:only-of-type {\n",
       "        vertical-align: middle;\n",
       "    }\n",
       "\n",
       "    .dataframe tbody tr th {\n",
       "        vertical-align: top;\n",
       "    }\n",
       "\n",
       "    .dataframe thead th {\n",
       "        text-align: right;\n",
       "    }\n",
       "</style>\n",
       "<table border=\"1\" class=\"dataframe\">\n",
       "  <thead>\n",
       "    <tr style=\"text-align: right;\">\n",
       "      <th></th>\n",
       "      <th>DonaldTrump.txt Relative frequency</th>\n",
       "      <th>hillaryClinton.txt Relative frequency</th>\n",
       "      <th>Relative frequency difference</th>\n",
       "    </tr>\n",
       "    <tr>\n",
       "      <th>Most common words</th>\n",
       "      <th></th>\n",
       "      <th></th>\n",
       "      <th></th>\n",
       "    </tr>\n",
       "  </thead>\n",
       "  <tbody>\n",
       "    <tr>\n",
       "      <th>trump</th>\n",
       "      <td>0.045977</td>\n",
       "      <td>0.003021</td>\n",
       "      <td>0.042956</td>\n",
       "    </tr>\n",
       "    <tr>\n",
       "      <th>wa</th>\n",
       "      <td>0.011494</td>\n",
       "      <td>0.040785</td>\n",
       "      <td>0.029291</td>\n",
       "    </tr>\n",
       "    <tr>\n",
       "      <th>clinton</th>\n",
       "      <td>0.001916</td>\n",
       "      <td>0.028701</td>\n",
       "      <td>0.026785</td>\n",
       "    </tr>\n",
       "    <tr>\n",
       "      <th>first</th>\n",
       "      <td>0.001916</td>\n",
       "      <td>0.021148</td>\n",
       "      <td>0.019232</td>\n",
       "    </tr>\n",
       "    <tr>\n",
       "      <th>hi</th>\n",
       "      <td>0.017241</td>\n",
       "      <td>0.001511</td>\n",
       "      <td>0.015731</td>\n",
       "    </tr>\n",
       "    <tr>\n",
       "      <th>rodham</th>\n",
       "      <td>0.000000</td>\n",
       "      <td>0.009063</td>\n",
       "      <td>0.009063</td>\n",
       "    </tr>\n",
       "    <tr>\n",
       "      <th>advoc</th>\n",
       "      <td>0.000000</td>\n",
       "      <td>0.009063</td>\n",
       "      <td>0.009063</td>\n",
       "    </tr>\n",
       "    <tr>\n",
       "      <th>chicago</th>\n",
       "      <td>0.000000</td>\n",
       "      <td>0.009063</td>\n",
       "      <td>0.009063</td>\n",
       "    </tr>\n",
       "    <tr>\n",
       "      <th>ladi</th>\n",
       "      <td>0.000000</td>\n",
       "      <td>0.007553</td>\n",
       "      <td>0.007553</td>\n",
       "    </tr>\n",
       "    <tr>\n",
       "      <th>elect</th>\n",
       "      <td>0.013410</td>\n",
       "      <td>0.019637</td>\n",
       "      <td>0.006228</td>\n",
       "    </tr>\n",
       "    <tr>\n",
       "      <th>militari</th>\n",
       "      <td>0.007663</td>\n",
       "      <td>0.001511</td>\n",
       "      <td>0.006152</td>\n",
       "    </tr>\n",
       "    <tr>\n",
       "      <th>american</th>\n",
       "      <td>0.007663</td>\n",
       "      <td>0.001511</td>\n",
       "      <td>0.006152</td>\n",
       "    </tr>\n",
       "    <tr>\n",
       "      <th>year</th>\n",
       "      <td>0.001916</td>\n",
       "      <td>0.007553</td>\n",
       "      <td>0.005637</td>\n",
       "    </tr>\n",
       "    <tr>\n",
       "      <th>vote</th>\n",
       "      <td>0.003831</td>\n",
       "      <td>0.009063</td>\n",
       "      <td>0.005232</td>\n",
       "    </tr>\n",
       "    <tr>\n",
       "      <th>senat</th>\n",
       "      <td>0.003831</td>\n",
       "      <td>0.009063</td>\n",
       "      <td>0.005232</td>\n",
       "    </tr>\n",
       "    <tr>\n",
       "      <th>secretari</th>\n",
       "      <td>0.000000</td>\n",
       "      <td>0.004532</td>\n",
       "      <td>0.004532</td>\n",
       "    </tr>\n",
       "    <tr>\n",
       "      <th>rais</th>\n",
       "      <td>0.000000</td>\n",
       "      <td>0.004532</td>\n",
       "      <td>0.004532</td>\n",
       "    </tr>\n",
       "    <tr>\n",
       "      <th>law</th>\n",
       "      <td>0.000000</td>\n",
       "      <td>0.004532</td>\n",
       "      <td>0.004532</td>\n",
       "    </tr>\n",
       "    <tr>\n",
       "      <th>arkansa</th>\n",
       "      <td>0.000000</td>\n",
       "      <td>0.004532</td>\n",
       "      <td>0.004532</td>\n",
       "    </tr>\n",
       "    <tr>\n",
       "      <th>femal</th>\n",
       "      <td>0.000000</td>\n",
       "      <td>0.004532</td>\n",
       "      <td>0.004532</td>\n",
       "    </tr>\n",
       "  </tbody>\n",
       "</table>\n",
       "</div>"
      ],
      "text/plain": [
       "                   DonaldTrump.txt Relative frequency  \\\n",
       "Most common words                                       \n",
       "trump                                        0.045977   \n",
       "wa                                           0.011494   \n",
       "clinton                                      0.001916   \n",
       "first                                        0.001916   \n",
       "hi                                           0.017241   \n",
       "rodham                                       0.000000   \n",
       "advoc                                        0.000000   \n",
       "chicago                                      0.000000   \n",
       "ladi                                         0.000000   \n",
       "elect                                        0.013410   \n",
       "militari                                     0.007663   \n",
       "american                                     0.007663   \n",
       "year                                         0.001916   \n",
       "vote                                         0.003831   \n",
       "senat                                        0.003831   \n",
       "secretari                                    0.000000   \n",
       "rais                                         0.000000   \n",
       "law                                          0.000000   \n",
       "arkansa                                      0.000000   \n",
       "femal                                        0.000000   \n",
       "\n",
       "                   hillaryClinton.txt Relative frequency  \\\n",
       "Most common words                                          \n",
       "trump                                           0.003021   \n",
       "wa                                              0.040785   \n",
       "clinton                                         0.028701   \n",
       "first                                           0.021148   \n",
       "hi                                              0.001511   \n",
       "rodham                                          0.009063   \n",
       "advoc                                           0.009063   \n",
       "chicago                                         0.009063   \n",
       "ladi                                            0.007553   \n",
       "elect                                           0.019637   \n",
       "militari                                        0.001511   \n",
       "american                                        0.001511   \n",
       "year                                            0.007553   \n",
       "vote                                            0.009063   \n",
       "senat                                           0.009063   \n",
       "secretari                                       0.004532   \n",
       "rais                                            0.004532   \n",
       "law                                             0.004532   \n",
       "arkansa                                         0.004532   \n",
       "femal                                           0.004532   \n",
       "\n",
       "                   Relative frequency difference  \n",
       "Most common words                                 \n",
       "trump                                   0.042956  \n",
       "wa                                      0.029291  \n",
       "clinton                                 0.026785  \n",
       "first                                   0.019232  \n",
       "hi                                      0.015731  \n",
       "rodham                                  0.009063  \n",
       "advoc                                   0.009063  \n",
       "chicago                                 0.009063  \n",
       "ladi                                    0.007553  \n",
       "elect                                   0.006228  \n",
       "militari                                0.006152  \n",
       "american                                0.006152  \n",
       "year                                    0.005637  \n",
       "vote                                    0.005232  \n",
       "senat                                   0.005232  \n",
       "secretari                               0.004532  \n",
       "rais                                    0.004532  \n",
       "law                                     0.004532  \n",
       "arkansa                                 0.004532  \n",
       "femal                                   0.004532  "
      ]
     },
     "execution_count": 14,
     "metadata": {},
     "output_type": "execute_result"
    }
   ],
   "source": [
    "dist_df.head(20)"
   ]
  },
  {
   "cell_type": "markdown",
   "id": "81599150",
   "metadata": {},
   "source": [
    "Saving the full list of distinctive words between \"DonaldTrump.txt\" and \"hillaryClinton.txt\""
   ]
  },
  {
   "cell_type": "code",
   "execution_count": 15,
   "id": "77eea0e5",
   "metadata": {},
   "outputs": [],
   "source": [
    "dist_df.to_csv(\"distinctiveWords.csv\")"
   ]
  },
  {
   "cell_type": "code",
   "execution_count": null,
   "id": "07fabd98",
   "metadata": {},
   "outputs": [],
   "source": []
  }
 ],
 "metadata": {
  "kernelspec": {
   "display_name": "Python 3",
   "language": "python",
   "name": "python3"
  },
  "language_info": {
   "codemirror_mode": {
    "name": "ipython",
    "version": 3
   },
   "file_extension": ".py",
   "mimetype": "text/x-python",
   "name": "python",
   "nbconvert_exporter": "python",
   "pygments_lexer": "ipython3",
   "version": "3.8.8"
  }
 },
 "nbformat": 4,
 "nbformat_minor": 5
}
